{
 "cells": [
  {
   "cell_type": "code",
   "execution_count": null,
   "id": "afd89394",
   "metadata": {},
   "outputs": [],
   "source": [
    "import torch\n",
    "from IPython.display import Image,clear_output\n",
    "from yolov5 import utils\n",
    "display = utils.notebook_init()  # checks"
   ]
  },
  {
   "cell_type": "code",
   "execution_count": null,
   "id": "3bac9740",
   "metadata": {},
   "outputs": [],
   "source": [
    "!unzip -q /content/yolov5/train_data.zip -d ../\n",
    "!zip -r /content/yolov5/runs.zip /content/yolov5/runs"
   ]
  },
  {
   "cell_type": "markdown",
   "id": "c7cc6897",
   "metadata": {},
   "source": [
    "TO TRAIN THE DATASET AND ITS LABEL"
   ]
  },
  {
   "cell_type": "code",
   "execution_count": null,
   "id": "8ed3a614",
   "metadata": {},
   "outputs": [],
   "source": [
    "!python train.py --img 640 --batch 16 --epochs 100 --data /content/yolov5/data/custom.yaml --weights yolov5s.pt --nosave --cache "
   ]
  },
  {
   "cell_type": "markdown",
   "id": "0cd48894",
   "metadata": {},
   "source": [
    "python detect.py --source 0  # webcam\n",
    "                          img.jpg  # image \n",
    "                          vid.mp4  # video\n",
    "                          path/  # directory\n",
    "                          path/*.jpg  # glob\n",
    "                          'https://youtu.be/Zgi9g1ksQHc'  # YouTube\n",
    "                          'rtsp://example.com/media.mp4'  # RTSP, RTMP, HTTP stream"
   ]
  },
  {
   "cell_type": "code",
   "execution_count": null,
   "id": "47adb128",
   "metadata": {},
   "outputs": [],
   "source": [
    "!python detect.py --weights runs/train/exp/weights/last.pt --img 640 --conf 0.25 --source /content/photo.jpg"
   ]
  }
 ],
 "metadata": {
  "kernelspec": {
   "display_name": "Python 3",
   "language": "python",
   "name": "python3"
  },
  "language_info": {
   "codemirror_mode": {
    "name": "ipython",
    "version": 3
   },
   "file_extension": ".py",
   "mimetype": "text/x-python",
   "name": "python",
   "nbconvert_exporter": "python",
   "pygments_lexer": "ipython3",
   "version": "3.9.1"
  }
 },
 "nbformat": 4,
 "nbformat_minor": 5
}
